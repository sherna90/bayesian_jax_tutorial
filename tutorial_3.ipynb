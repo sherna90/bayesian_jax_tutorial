{
 "cells": [
  {
   "cell_type": "code",
   "execution_count": 2,
   "metadata": {},
   "outputs": [
    {
     "name": "stderr",
     "output_type": "stream",
     "text": [
      "WARNING (pytensor.tensor.blas): Using NumPy C-API based implementation for BLAS functions.\n"
     ]
    }
   ],
   "source": [
    "import pymc as pm\n",
    "import numpy as np\n",
    "\n",
    "y = np.array([28, 8, -3, 7, -1, 1, 18, 12],dtype=np.float32)\n",
    "sigma = np.array([15, 10, 16, 11, 9, 11, 10, 18],dtype=np.float32)\n",
    "J = len(y)"
   ]
  },
  {
   "cell_type": "markdown",
   "metadata": {},
   "source": [
    "# Model"
   ]
  },
  {
   "cell_type": "code",
   "execution_count": 31,
   "metadata": {},
   "outputs": [],
   "source": [
    "with pm.Model() as model:\n",
    "  mu = pm.Normal('mu', 0., 10.)\n",
    "  tau = pm.LogNormal('tau', 0.,1.)\n",
    "  eta = pm.Normal('eta', shape=8)\n",
    "  obs=pm.Normal('observed',mu+tau*eta,sigma,observed=y)\n"
   ]
  },
  {
   "cell_type": "code",
   "execution_count": 32,
   "metadata": {},
   "outputs": [],
   "source": [
    "import bayeux as bx\n",
    "\n",
    "bx_model = bx.Model.from_pymc(model)"
   ]
  },
  {
   "cell_type": "code",
   "execution_count": 33,
   "metadata": {},
   "outputs": [
    {
     "data": {
      "text/plain": [
       "Array(-43.57248197, dtype=float64)"
      ]
     },
     "execution_count": 33,
     "metadata": {},
     "output_type": "execute_result"
    }
   ],
   "source": [
    "bx_model.log_density(bx_model.test_point)"
   ]
  },
  {
   "cell_type": "code",
   "execution_count": 34,
   "metadata": {},
   "outputs": [
    {
     "data": {
      "text/plain": [
       "{'mu': array(0.),\n",
       " 'tau': array(1.64872122),\n",
       " 'eta': array([0., 0., 0., 0., 0., 0., 0., 0.])}"
      ]
     },
     "execution_count": 34,
     "metadata": {},
     "output_type": "execute_result"
    }
   ],
   "source": [
    "bx_model.test_point"
   ]
  },
  {
   "cell_type": "code",
   "execution_count": 39,
   "metadata": {},
   "outputs": [
    {
     "name": "stdout",
     "output_type": "stream",
     "text": [
      "-43.572482770210605\n"
     ]
    }
   ],
   "source": [
    "import distrax\n",
    "from jax import grad\n",
    "import jax.numpy as jnp\n",
    "\n",
    "\n",
    "def log_likelihood(test_point):\n",
    "    log_prior_eta=distrax.Normal(0.,1.).log_prob(test_point['eta']).sum()\n",
    "    log_prior_mu=distrax.Normal(0.,10.).log_prob(test_point['mu'])\n",
    "    log_prior_tau=distrax.Transformed(distrax.Normal(loc=0., scale=1.),\n",
    "                                    distrax.Lambda(lambda x:jnp.exp(x))).log_prob(test_point['tau'])\n",
    "    #log_prior_theta=distrax.Transformed(distrax.Normal(loc=0., scale=1.),\n",
    "    #                                distrax.ScalarAffine(test_point['mu'],test_point['tau'])).log_prob(test_point['theta']).sum()\n",
    "    #test_point['theta']=test_point['mu']+test_point['tau']*test_point['eta']\n",
    "    log_like=distrax.Independent(distrax.Normal(test_point['mu']+test_point['tau']*test_point['eta'],sigma)).log_prob(y).sum()\n",
    "    return log_prior_eta+log_like+log_prior_mu+log_prior_tau\n",
    "\n",
    "dlog_p = grad(log_likelihood)\n",
    "\n",
    "print(log_likelihood(bx_model.test_point))"
   ]
  },
  {
   "cell_type": "markdown",
   "metadata": {},
   "source": [
    "# Inference"
   ]
  },
  {
   "cell_type": "code",
   "execution_count": 37,
   "metadata": {},
   "outputs": [
    {
     "name": "stderr",
     "output_type": "stream",
     "text": [
      "Auto-assigning NUTS sampler...\n",
      "Initializing NUTS using jitter+adapt_diag...\n",
      "Multiprocess sampling (4 chains in 4 jobs)\n",
      "NUTS: [mu, tau, eta]\n",
      "/usr/lib/python3.12/multiprocessing/popen_fork.py:66: RuntimeWarning: os.fork() was called. os.fork() is incompatible with multithreaded code, and JAX is multithreaded, so this will likely lead to a deadlock.\n",
      "  self.pid = os.fork()\n"
     ]
    },
    {
     "data": {
      "application/vnd.jupyter.widget-view+json": {
       "model_id": "1c3b64b39af94f1db59858ca959802dc",
       "version_major": 2,
       "version_minor": 0
      },
      "text/plain": [
       "Output()"
      ]
     },
     "metadata": {},
     "output_type": "display_data"
    },
    {
     "name": "stderr",
     "output_type": "stream",
     "text": [
      "/usr/lib/python3.12/multiprocessing/popen_fork.py:66: RuntimeWarning: os.fork() was called. os.fork() is incompatible with multithreaded code, and JAX is multithreaded, so this will likely lead to a deadlock.\n",
      "  self.pid = os.fork()\n"
     ]
    },
    {
     "data": {
      "text/html": [
       "<pre style=\"white-space:pre;overflow-x:auto;line-height:normal;font-family:Menlo,'DejaVu Sans Mono',consolas,'Courier New',monospace\"></pre>\n"
      ],
      "text/plain": []
     },
     "metadata": {},
     "output_type": "display_data"
    },
    {
     "data": {
      "text/html": [
       "<pre style=\"white-space:pre;overflow-x:auto;line-height:normal;font-family:Menlo,'DejaVu Sans Mono',consolas,'Courier New',monospace\">\n",
       "</pre>\n"
      ],
      "text/plain": [
       "\n"
      ]
     },
     "metadata": {},
     "output_type": "display_data"
    },
    {
     "name": "stderr",
     "output_type": "stream",
     "text": [
      "Sampling 4 chains for 1_000 tune and 2_000 draw iterations (4_000 + 8_000 draws total) took 5 seconds.\n",
      "There were 2 divergences after tuning. Increase `target_accept` or reparameterize.\n"
     ]
    }
   ],
   "source": [
    "with model:\n",
    "    i_data_pmc=pm.sample(2000)"
   ]
  },
  {
   "cell_type": "code",
   "execution_count": 38,
   "metadata": {},
   "outputs": [
    {
     "name": "stderr",
     "output_type": "stream",
     "text": [
      "sample: 100%|██████████| 1500/1500 [00:08<00:00, 167.03it/s]\n"
     ]
    }
   ],
   "source": [
    "import jax \n",
    "\n",
    "idata_bx = bx_model.mcmc.numpyro_nuts(seed=jax.random.key(0))"
   ]
  },
  {
   "cell_type": "code",
   "execution_count": 40,
   "metadata": {},
   "outputs": [
    {
     "name": "stderr",
     "output_type": "stream",
     "text": [
      "sample: 100%|██████████| 1500/1500 [00:08<00:00, 170.23it/s]\n"
     ]
    }
   ],
   "source": [
    "def transform_fn(test_point):\n",
    "  return {'mu': test_point['mu'], 'tau': jnp.exp(test_point['tau']),\n",
    "          'eta':test_point['eta']}\n",
    "\n",
    "bx_jax = bx.Model(\n",
    "    log_density=log_likelihood,\n",
    "    test_point=bx_model.test_point,\n",
    "    transform_fn=transform_fn)\n",
    "\n",
    "idata_jax=bx_jax.mcmc.numpyro_nuts(seed=jax.random.key(0))"
   ]
  },
  {
   "cell_type": "markdown",
   "metadata": {},
   "source": [
    "# Diagnostics"
   ]
  },
  {
   "cell_type": "code",
   "execution_count": 41,
   "metadata": {},
   "outputs": [
    {
     "data": {
      "text/html": [
       "<div>\n",
       "<style scoped>\n",
       "    .dataframe tbody tr th:only-of-type {\n",
       "        vertical-align: middle;\n",
       "    }\n",
       "\n",
       "    .dataframe tbody tr th {\n",
       "        vertical-align: top;\n",
       "    }\n",
       "\n",
       "    .dataframe thead th {\n",
       "        text-align: right;\n",
       "    }\n",
       "</style>\n",
       "<table border=\"1\" class=\"dataframe\">\n",
       "  <thead>\n",
       "    <tr style=\"text-align: right;\">\n",
       "      <th></th>\n",
       "      <th>mean</th>\n",
       "      <th>sd</th>\n",
       "      <th>hdi_3%</th>\n",
       "      <th>hdi_97%</th>\n",
       "      <th>mcse_mean</th>\n",
       "      <th>mcse_sd</th>\n",
       "      <th>ess_bulk</th>\n",
       "      <th>ess_tail</th>\n",
       "      <th>r_hat</th>\n",
       "    </tr>\n",
       "  </thead>\n",
       "  <tbody>\n",
       "    <tr>\n",
       "      <th>eta[0]</th>\n",
       "      <td>0.127</td>\n",
       "      <td>0.995</td>\n",
       "      <td>-1.785</td>\n",
       "      <td>1.938</td>\n",
       "      <td>0.010</td>\n",
       "      <td>0.011</td>\n",
       "      <td>10706.0</td>\n",
       "      <td>6310.0</td>\n",
       "      <td>1.0</td>\n",
       "    </tr>\n",
       "    <tr>\n",
       "      <th>eta[1]</th>\n",
       "      <td>0.026</td>\n",
       "      <td>0.991</td>\n",
       "      <td>-1.883</td>\n",
       "      <td>1.813</td>\n",
       "      <td>0.010</td>\n",
       "      <td>0.011</td>\n",
       "      <td>10673.0</td>\n",
       "      <td>6134.0</td>\n",
       "      <td>1.0</td>\n",
       "    </tr>\n",
       "    <tr>\n",
       "      <th>eta[2]</th>\n",
       "      <td>-0.052</td>\n",
       "      <td>0.978</td>\n",
       "      <td>-1.847</td>\n",
       "      <td>1.850</td>\n",
       "      <td>0.009</td>\n",
       "      <td>0.011</td>\n",
       "      <td>11799.0</td>\n",
       "      <td>5829.0</td>\n",
       "      <td>1.0</td>\n",
       "    </tr>\n",
       "    <tr>\n",
       "      <th>eta[3]</th>\n",
       "      <td>0.007</td>\n",
       "      <td>0.995</td>\n",
       "      <td>-1.840</td>\n",
       "      <td>1.938</td>\n",
       "      <td>0.010</td>\n",
       "      <td>0.012</td>\n",
       "      <td>10198.0</td>\n",
       "      <td>5886.0</td>\n",
       "      <td>1.0</td>\n",
       "    </tr>\n",
       "    <tr>\n",
       "      <th>eta[4]</th>\n",
       "      <td>-0.109</td>\n",
       "      <td>0.984</td>\n",
       "      <td>-1.917</td>\n",
       "      <td>1.747</td>\n",
       "      <td>0.010</td>\n",
       "      <td>0.011</td>\n",
       "      <td>9632.0</td>\n",
       "      <td>6046.0</td>\n",
       "      <td>1.0</td>\n",
       "    </tr>\n",
       "    <tr>\n",
       "      <th>eta[5]</th>\n",
       "      <td>-0.086</td>\n",
       "      <td>0.975</td>\n",
       "      <td>-1.846</td>\n",
       "      <td>1.771</td>\n",
       "      <td>0.010</td>\n",
       "      <td>0.010</td>\n",
       "      <td>9829.0</td>\n",
       "      <td>5947.0</td>\n",
       "      <td>1.0</td>\n",
       "    </tr>\n",
       "    <tr>\n",
       "      <th>eta[6]</th>\n",
       "      <td>0.148</td>\n",
       "      <td>0.998</td>\n",
       "      <td>-1.725</td>\n",
       "      <td>1.998</td>\n",
       "      <td>0.010</td>\n",
       "      <td>0.011</td>\n",
       "      <td>9842.0</td>\n",
       "      <td>5513.0</td>\n",
       "      <td>1.0</td>\n",
       "    </tr>\n",
       "    <tr>\n",
       "      <th>eta[7]</th>\n",
       "      <td>0.012</td>\n",
       "      <td>1.006</td>\n",
       "      <td>-1.860</td>\n",
       "      <td>1.950</td>\n",
       "      <td>0.010</td>\n",
       "      <td>0.012</td>\n",
       "      <td>10326.0</td>\n",
       "      <td>5411.0</td>\n",
       "      <td>1.0</td>\n",
       "    </tr>\n",
       "    <tr>\n",
       "      <th>mu</th>\n",
       "      <td>6.620</td>\n",
       "      <td>3.752</td>\n",
       "      <td>-0.455</td>\n",
       "      <td>13.761</td>\n",
       "      <td>0.040</td>\n",
       "      <td>0.031</td>\n",
       "      <td>8970.0</td>\n",
       "      <td>5744.0</td>\n",
       "      <td>1.0</td>\n",
       "    </tr>\n",
       "    <tr>\n",
       "      <th>tau</th>\n",
       "      <td>1.383</td>\n",
       "      <td>1.385</td>\n",
       "      <td>0.027</td>\n",
       "      <td>3.762</td>\n",
       "      <td>0.018</td>\n",
       "      <td>0.014</td>\n",
       "      <td>8400.0</td>\n",
       "      <td>5795.0</td>\n",
       "      <td>1.0</td>\n",
       "    </tr>\n",
       "  </tbody>\n",
       "</table>\n",
       "</div>"
      ],
      "text/plain": [
       "         mean     sd  hdi_3%  hdi_97%  mcse_mean  mcse_sd  ess_bulk  ess_tail  \\\n",
       "eta[0]  0.127  0.995  -1.785    1.938      0.010    0.011   10706.0    6310.0   \n",
       "eta[1]  0.026  0.991  -1.883    1.813      0.010    0.011   10673.0    6134.0   \n",
       "eta[2] -0.052  0.978  -1.847    1.850      0.009    0.011   11799.0    5829.0   \n",
       "eta[3]  0.007  0.995  -1.840    1.938      0.010    0.012   10198.0    5886.0   \n",
       "eta[4] -0.109  0.984  -1.917    1.747      0.010    0.011    9632.0    6046.0   \n",
       "eta[5] -0.086  0.975  -1.846    1.771      0.010    0.010    9829.0    5947.0   \n",
       "eta[6]  0.148  0.998  -1.725    1.998      0.010    0.011    9842.0    5513.0   \n",
       "eta[7]  0.012  1.006  -1.860    1.950      0.010    0.012   10326.0    5411.0   \n",
       "mu      6.620  3.752  -0.455   13.761      0.040    0.031    8970.0    5744.0   \n",
       "tau     1.383  1.385   0.027    3.762      0.018    0.014    8400.0    5795.0   \n",
       "\n",
       "        r_hat  \n",
       "eta[0]    1.0  \n",
       "eta[1]    1.0  \n",
       "eta[2]    1.0  \n",
       "eta[3]    1.0  \n",
       "eta[4]    1.0  \n",
       "eta[5]    1.0  \n",
       "eta[6]    1.0  \n",
       "eta[7]    1.0  \n",
       "mu        1.0  \n",
       "tau       1.0  "
      ]
     },
     "execution_count": 41,
     "metadata": {},
     "output_type": "execute_result"
    }
   ],
   "source": [
    "import arviz as az\n",
    "\n",
    "az.summary(i_data_pmc)"
   ]
  },
  {
   "cell_type": "code",
   "execution_count": 42,
   "metadata": {},
   "outputs": [
    {
     "data": {
      "text/html": [
       "<div>\n",
       "<style scoped>\n",
       "    .dataframe tbody tr th:only-of-type {\n",
       "        vertical-align: middle;\n",
       "    }\n",
       "\n",
       "    .dataframe tbody tr th {\n",
       "        vertical-align: top;\n",
       "    }\n",
       "\n",
       "    .dataframe thead th {\n",
       "        text-align: right;\n",
       "    }\n",
       "</style>\n",
       "<table border=\"1\" class=\"dataframe\">\n",
       "  <thead>\n",
       "    <tr style=\"text-align: right;\">\n",
       "      <th></th>\n",
       "      <th>mean</th>\n",
       "      <th>sd</th>\n",
       "      <th>hdi_3%</th>\n",
       "      <th>hdi_97%</th>\n",
       "      <th>mcse_mean</th>\n",
       "      <th>mcse_sd</th>\n",
       "      <th>ess_bulk</th>\n",
       "      <th>ess_tail</th>\n",
       "      <th>r_hat</th>\n",
       "    </tr>\n",
       "  </thead>\n",
       "  <tbody>\n",
       "    <tr>\n",
       "      <th>eta[0]</th>\n",
       "      <td>0.124</td>\n",
       "      <td>1.001</td>\n",
       "      <td>-1.703</td>\n",
       "      <td>2.032</td>\n",
       "      <td>0.008</td>\n",
       "      <td>0.012</td>\n",
       "      <td>14820.0</td>\n",
       "      <td>6565.0</td>\n",
       "      <td>1.0</td>\n",
       "    </tr>\n",
       "    <tr>\n",
       "      <th>eta[1]</th>\n",
       "      <td>0.016</td>\n",
       "      <td>0.987</td>\n",
       "      <td>-1.866</td>\n",
       "      <td>1.871</td>\n",
       "      <td>0.008</td>\n",
       "      <td>0.012</td>\n",
       "      <td>16413.0</td>\n",
       "      <td>5418.0</td>\n",
       "      <td>1.0</td>\n",
       "    </tr>\n",
       "    <tr>\n",
       "      <th>eta[2]</th>\n",
       "      <td>-0.052</td>\n",
       "      <td>1.006</td>\n",
       "      <td>-1.891</td>\n",
       "      <td>1.838</td>\n",
       "      <td>0.008</td>\n",
       "      <td>0.012</td>\n",
       "      <td>15802.0</td>\n",
       "      <td>6068.0</td>\n",
       "      <td>1.0</td>\n",
       "    </tr>\n",
       "    <tr>\n",
       "      <th>eta[3]</th>\n",
       "      <td>0.003</td>\n",
       "      <td>0.990</td>\n",
       "      <td>-1.802</td>\n",
       "      <td>1.933</td>\n",
       "      <td>0.008</td>\n",
       "      <td>0.012</td>\n",
       "      <td>16815.0</td>\n",
       "      <td>5980.0</td>\n",
       "      <td>1.0</td>\n",
       "    </tr>\n",
       "    <tr>\n",
       "      <th>eta[4]</th>\n",
       "      <td>-0.115</td>\n",
       "      <td>1.001</td>\n",
       "      <td>-1.977</td>\n",
       "      <td>1.737</td>\n",
       "      <td>0.008</td>\n",
       "      <td>0.013</td>\n",
       "      <td>14360.0</td>\n",
       "      <td>6108.0</td>\n",
       "      <td>1.0</td>\n",
       "    </tr>\n",
       "    <tr>\n",
       "      <th>eta[5]</th>\n",
       "      <td>-0.057</td>\n",
       "      <td>1.014</td>\n",
       "      <td>-1.869</td>\n",
       "      <td>1.944</td>\n",
       "      <td>0.008</td>\n",
       "      <td>0.012</td>\n",
       "      <td>16357.0</td>\n",
       "      <td>6173.0</td>\n",
       "      <td>1.0</td>\n",
       "    </tr>\n",
       "    <tr>\n",
       "      <th>eta[6]</th>\n",
       "      <td>0.173</td>\n",
       "      <td>0.977</td>\n",
       "      <td>-1.545</td>\n",
       "      <td>2.123</td>\n",
       "      <td>0.008</td>\n",
       "      <td>0.012</td>\n",
       "      <td>14891.0</td>\n",
       "      <td>6354.0</td>\n",
       "      <td>1.0</td>\n",
       "    </tr>\n",
       "    <tr>\n",
       "      <th>eta[7]</th>\n",
       "      <td>0.021</td>\n",
       "      <td>0.994</td>\n",
       "      <td>-1.867</td>\n",
       "      <td>1.867</td>\n",
       "      <td>0.008</td>\n",
       "      <td>0.012</td>\n",
       "      <td>16846.0</td>\n",
       "      <td>6037.0</td>\n",
       "      <td>1.0</td>\n",
       "    </tr>\n",
       "    <tr>\n",
       "      <th>mu</th>\n",
       "      <td>6.590</td>\n",
       "      <td>3.759</td>\n",
       "      <td>-0.284</td>\n",
       "      <td>13.978</td>\n",
       "      <td>0.031</td>\n",
       "      <td>0.027</td>\n",
       "      <td>14393.0</td>\n",
       "      <td>5336.0</td>\n",
       "      <td>1.0</td>\n",
       "    </tr>\n",
       "    <tr>\n",
       "      <th>tau</th>\n",
       "      <td>1.420</td>\n",
       "      <td>1.458</td>\n",
       "      <td>0.052</td>\n",
       "      <td>3.885</td>\n",
       "      <td>0.017</td>\n",
       "      <td>0.014</td>\n",
       "      <td>13167.0</td>\n",
       "      <td>6131.0</td>\n",
       "      <td>1.0</td>\n",
       "    </tr>\n",
       "  </tbody>\n",
       "</table>\n",
       "</div>"
      ],
      "text/plain": [
       "         mean     sd  hdi_3%  hdi_97%  mcse_mean  mcse_sd  ess_bulk  ess_tail  \\\n",
       "eta[0]  0.124  1.001  -1.703    2.032      0.008    0.012   14820.0    6565.0   \n",
       "eta[1]  0.016  0.987  -1.866    1.871      0.008    0.012   16413.0    5418.0   \n",
       "eta[2] -0.052  1.006  -1.891    1.838      0.008    0.012   15802.0    6068.0   \n",
       "eta[3]  0.003  0.990  -1.802    1.933      0.008    0.012   16815.0    5980.0   \n",
       "eta[4] -0.115  1.001  -1.977    1.737      0.008    0.013   14360.0    6108.0   \n",
       "eta[5] -0.057  1.014  -1.869    1.944      0.008    0.012   16357.0    6173.0   \n",
       "eta[6]  0.173  0.977  -1.545    2.123      0.008    0.012   14891.0    6354.0   \n",
       "eta[7]  0.021  0.994  -1.867    1.867      0.008    0.012   16846.0    6037.0   \n",
       "mu      6.590  3.759  -0.284   13.978      0.031    0.027   14393.0    5336.0   \n",
       "tau     1.420  1.458   0.052    3.885      0.017    0.014   13167.0    6131.0   \n",
       "\n",
       "        r_hat  \n",
       "eta[0]    1.0  \n",
       "eta[1]    1.0  \n",
       "eta[2]    1.0  \n",
       "eta[3]    1.0  \n",
       "eta[4]    1.0  \n",
       "eta[5]    1.0  \n",
       "eta[6]    1.0  \n",
       "eta[7]    1.0  \n",
       "mu        1.0  \n",
       "tau       1.0  "
      ]
     },
     "execution_count": 42,
     "metadata": {},
     "output_type": "execute_result"
    }
   ],
   "source": [
    "az.summary(idata_bx)"
   ]
  },
  {
   "cell_type": "code",
   "execution_count": 43,
   "metadata": {},
   "outputs": [
    {
     "data": {
      "text/html": [
       "<div>\n",
       "<style scoped>\n",
       "    .dataframe tbody tr th:only-of-type {\n",
       "        vertical-align: middle;\n",
       "    }\n",
       "\n",
       "    .dataframe tbody tr th {\n",
       "        vertical-align: top;\n",
       "    }\n",
       "\n",
       "    .dataframe thead th {\n",
       "        text-align: right;\n",
       "    }\n",
       "</style>\n",
       "<table border=\"1\" class=\"dataframe\">\n",
       "  <thead>\n",
       "    <tr style=\"text-align: right;\">\n",
       "      <th></th>\n",
       "      <th>mean</th>\n",
       "      <th>sd</th>\n",
       "      <th>hdi_3%</th>\n",
       "      <th>hdi_97%</th>\n",
       "      <th>mcse_mean</th>\n",
       "      <th>mcse_sd</th>\n",
       "      <th>ess_bulk</th>\n",
       "      <th>ess_tail</th>\n",
       "      <th>r_hat</th>\n",
       "    </tr>\n",
       "  </thead>\n",
       "  <tbody>\n",
       "    <tr>\n",
       "      <th>eta[0]</th>\n",
       "      <td>0.129</td>\n",
       "      <td>0.993</td>\n",
       "      <td>-1.806</td>\n",
       "      <td>1.947</td>\n",
       "      <td>0.008</td>\n",
       "      <td>0.012</td>\n",
       "      <td>15272.0</td>\n",
       "      <td>6498.0</td>\n",
       "      <td>1.0</td>\n",
       "    </tr>\n",
       "    <tr>\n",
       "      <th>eta[1]</th>\n",
       "      <td>0.019</td>\n",
       "      <td>0.982</td>\n",
       "      <td>-1.864</td>\n",
       "      <td>1.853</td>\n",
       "      <td>0.007</td>\n",
       "      <td>0.012</td>\n",
       "      <td>17784.0</td>\n",
       "      <td>6075.0</td>\n",
       "      <td>1.0</td>\n",
       "    </tr>\n",
       "    <tr>\n",
       "      <th>eta[2]</th>\n",
       "      <td>-0.053</td>\n",
       "      <td>1.018</td>\n",
       "      <td>-1.984</td>\n",
       "      <td>1.799</td>\n",
       "      <td>0.008</td>\n",
       "      <td>0.013</td>\n",
       "      <td>16922.0</td>\n",
       "      <td>5867.0</td>\n",
       "      <td>1.0</td>\n",
       "    </tr>\n",
       "    <tr>\n",
       "      <th>eta[3]</th>\n",
       "      <td>0.006</td>\n",
       "      <td>0.991</td>\n",
       "      <td>-1.917</td>\n",
       "      <td>1.851</td>\n",
       "      <td>0.007</td>\n",
       "      <td>0.012</td>\n",
       "      <td>18187.0</td>\n",
       "      <td>6369.0</td>\n",
       "      <td>1.0</td>\n",
       "    </tr>\n",
       "    <tr>\n",
       "      <th>eta[4]</th>\n",
       "      <td>-0.120</td>\n",
       "      <td>1.006</td>\n",
       "      <td>-1.995</td>\n",
       "      <td>1.757</td>\n",
       "      <td>0.009</td>\n",
       "      <td>0.012</td>\n",
       "      <td>13187.0</td>\n",
       "      <td>6288.0</td>\n",
       "      <td>1.0</td>\n",
       "    </tr>\n",
       "    <tr>\n",
       "      <th>eta[5]</th>\n",
       "      <td>-0.056</td>\n",
       "      <td>1.004</td>\n",
       "      <td>-1.986</td>\n",
       "      <td>1.808</td>\n",
       "      <td>0.008</td>\n",
       "      <td>0.013</td>\n",
       "      <td>15836.0</td>\n",
       "      <td>5733.0</td>\n",
       "      <td>1.0</td>\n",
       "    </tr>\n",
       "    <tr>\n",
       "      <th>eta[6]</th>\n",
       "      <td>0.157</td>\n",
       "      <td>0.990</td>\n",
       "      <td>-1.658</td>\n",
       "      <td>2.062</td>\n",
       "      <td>0.008</td>\n",
       "      <td>0.012</td>\n",
       "      <td>15153.0</td>\n",
       "      <td>6052.0</td>\n",
       "      <td>1.0</td>\n",
       "    </tr>\n",
       "    <tr>\n",
       "      <th>eta[7]</th>\n",
       "      <td>0.023</td>\n",
       "      <td>0.995</td>\n",
       "      <td>-1.755</td>\n",
       "      <td>1.961</td>\n",
       "      <td>0.008</td>\n",
       "      <td>0.012</td>\n",
       "      <td>17503.0</td>\n",
       "      <td>6423.0</td>\n",
       "      <td>1.0</td>\n",
       "    </tr>\n",
       "    <tr>\n",
       "      <th>mu</th>\n",
       "      <td>6.599</td>\n",
       "      <td>3.797</td>\n",
       "      <td>-0.331</td>\n",
       "      <td>14.110</td>\n",
       "      <td>0.031</td>\n",
       "      <td>0.027</td>\n",
       "      <td>14896.0</td>\n",
       "      <td>5803.0</td>\n",
       "      <td>1.0</td>\n",
       "    </tr>\n",
       "    <tr>\n",
       "      <th>tau</th>\n",
       "      <td>1.414</td>\n",
       "      <td>1.457</td>\n",
       "      <td>0.025</td>\n",
       "      <td>3.960</td>\n",
       "      <td>0.016</td>\n",
       "      <td>0.013</td>\n",
       "      <td>13030.0</td>\n",
       "      <td>6499.0</td>\n",
       "      <td>1.0</td>\n",
       "    </tr>\n",
       "  </tbody>\n",
       "</table>\n",
       "</div>"
      ],
      "text/plain": [
       "         mean     sd  hdi_3%  hdi_97%  mcse_mean  mcse_sd  ess_bulk  ess_tail  \\\n",
       "eta[0]  0.129  0.993  -1.806    1.947      0.008    0.012   15272.0    6498.0   \n",
       "eta[1]  0.019  0.982  -1.864    1.853      0.007    0.012   17784.0    6075.0   \n",
       "eta[2] -0.053  1.018  -1.984    1.799      0.008    0.013   16922.0    5867.0   \n",
       "eta[3]  0.006  0.991  -1.917    1.851      0.007    0.012   18187.0    6369.0   \n",
       "eta[4] -0.120  1.006  -1.995    1.757      0.009    0.012   13187.0    6288.0   \n",
       "eta[5] -0.056  1.004  -1.986    1.808      0.008    0.013   15836.0    5733.0   \n",
       "eta[6]  0.157  0.990  -1.658    2.062      0.008    0.012   15153.0    6052.0   \n",
       "eta[7]  0.023  0.995  -1.755    1.961      0.008    0.012   17503.0    6423.0   \n",
       "mu      6.599  3.797  -0.331   14.110      0.031    0.027   14896.0    5803.0   \n",
       "tau     1.414  1.457   0.025    3.960      0.016    0.013   13030.0    6499.0   \n",
       "\n",
       "        r_hat  \n",
       "eta[0]    1.0  \n",
       "eta[1]    1.0  \n",
       "eta[2]    1.0  \n",
       "eta[3]    1.0  \n",
       "eta[4]    1.0  \n",
       "eta[5]    1.0  \n",
       "eta[6]    1.0  \n",
       "eta[7]    1.0  \n",
       "mu        1.0  \n",
       "tau       1.0  "
      ]
     },
     "execution_count": 43,
     "metadata": {},
     "output_type": "execute_result"
    }
   ],
   "source": [
    "az.summary(idata_jax)"
   ]
  }
 ],
 "metadata": {
  "kernelspec": {
   "display_name": "pymc",
   "language": "python",
   "name": "python3"
  },
  "language_info": {
   "codemirror_mode": {
    "name": "ipython",
    "version": 3
   },
   "file_extension": ".py",
   "mimetype": "text/x-python",
   "name": "python",
   "nbconvert_exporter": "python",
   "pygments_lexer": "ipython3",
   "version": "3.12.3"
  }
 },
 "nbformat": 4,
 "nbformat_minor": 2
}
